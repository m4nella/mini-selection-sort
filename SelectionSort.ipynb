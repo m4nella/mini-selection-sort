{
  "nbformat": 4,
  "nbformat_minor": 0,
  "metadata": {
    "colab": {
      "provenance": []
    },
    "kernelspec": {
      "name": "python3",
      "display_name": "Python 3"
    },
    "language_info": {
      "name": "python"
    }
  },
  "cells": [
    {
      "cell_type": "code",
      "execution_count": null,
      "metadata": {
        "id": "gdlkDueh4WE-"
      },
      "outputs": [],
      "source": [
        "def search_smaller(l):\n",
        "  smaller = l[0]\n",
        "  smaller_idx = 0\n",
        "  for idx, element in enumerate(l):\n",
        "    if element < smaller:\n",
        "      smaller = element\n",
        "      smaller_idx = idx\n",
        "  return smaller_idx\n"
      ]
    },
    {
      "cell_type": "code",
      "source": [
        "search_smaller([10, 0, 5, 8, 11])"
      ],
      "metadata": {
        "colab": {
          "base_uri": "https://localhost:8080/"
        },
        "id": "bzZX2cUF8e8h",
        "outputId": "68935a31-3337-47ce-bfff-4cfa8dd2cff3"
      },
      "execution_count": null,
      "outputs": [
        {
          "output_type": "execute_result",
          "data": {
            "text/plain": [
              "1"
            ]
          },
          "metadata": {},
          "execution_count": 16
        }
      ]
    },
    {
      "cell_type": "code",
      "source": [
        "def selection_sort(l):\n",
        "    new_l = []\n",
        "    for i in range (len(l)):\n",
        "      smaller_one = search_smaller(l)\n",
        "      new_l.append(l.pop(smaller_one))\n",
        "    return new_l, l"
      ],
      "metadata": {
        "id": "iNa45a05-qgC"
      },
      "execution_count": 1,
      "outputs": []
    },
    {
      "cell_type": "code",
      "source": [
        "selection_sort([5, 10, 3, 32, 88 ])"
      ],
      "metadata": {
        "colab": {
          "base_uri": "https://localhost:8080/"
        },
        "id": "XxwHt9jrBzE0",
        "outputId": "c74827c1-9b8e-4639-bf6e-e6bb5e3cc608"
      },
      "execution_count": null,
      "outputs": [
        {
          "output_type": "execute_result",
          "data": {
            "text/plain": [
              "[3, 5, 10, 32, 88]"
            ]
          },
          "metadata": {},
          "execution_count": 19
        }
      ]
    },
    {
      "cell_type": "code",
      "source": [
        "l = [5, 10, 3, 32, 88 ]\n",
        "\n",
        "l.sort()\n",
        "l"
      ],
      "metadata": {
        "colab": {
          "base_uri": "https://localhost:8080/"
        },
        "id": "aNe_8gBAC2Ei",
        "outputId": "2ad8fa34-4f94-456a-f823-dc13cd4e4efe"
      },
      "execution_count": null,
      "outputs": [
        {
          "output_type": "execute_result",
          "data": {
            "text/plain": [
              "[3, 5, 10, 32, 88]"
            ]
          },
          "metadata": {},
          "execution_count": 21
        }
      ]
    },
    {
      "cell_type": "code",
      "source": [
        "def selection_sort_2(l):\n",
        "  n = len(l)\n",
        "\n",
        "  for i in range(n):\n",
        "    smaller_idx = i\n",
        "\n",
        "    for j in range(i+1, n):\n",
        "      if l[j] < l[smaller_idx]:\n",
        "        smaller_idx = j\n",
        "\n",
        "    l[i], l[smaller_idx] = l[smaller_idx], l[i]\n",
        "\n",
        "  return l"
      ],
      "metadata": {
        "id": "KeRxWyfyE0fR"
      },
      "execution_count": null,
      "outputs": []
    },
    {
      "cell_type": "code",
      "source": [
        "selection_sort_2([5, 10, 3, 32, 88])"
      ],
      "metadata": {
        "colab": {
          "base_uri": "https://localhost:8080/"
        },
        "id": "Q8iin426GVCs",
        "outputId": "e0ee9c9e-99e5-4f4a-b83c-ca5e9b061a8a"
      },
      "execution_count": null,
      "outputs": [
        {
          "output_type": "execute_result",
          "data": {
            "text/plain": [
              "[3, 5, 10, 32, 88]"
            ]
          },
          "metadata": {},
          "execution_count": 23
        }
      ]
    }
  ]
}